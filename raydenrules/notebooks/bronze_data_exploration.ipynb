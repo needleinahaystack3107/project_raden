{
 "cells": [
  {
   "cell_type": "markdown",
   "metadata": {},
   "source": [
    "# Bronze Layer Data Exploration\n",
    "\n",
    "This notebook explores the bronze layer outputs from the data ingestion pipeline.\n",
    "\n",
    "**Bronze Layer Location:** `data/02_intermediate/`\n",
    "\n",
    "**Contents:**\n",
    "- Granule metadata partitioned by region\n",
    "- Consolidated granules table\n",
    "- Data quality manifest\n",
    "- Ingestion metadata\n",
    "- Metrics preparation tables"
   ]
  },
  {
   "cell_type": "code",
   "metadata": {
    "ExecuteTime": {
     "end_time": "2025-10-30T20:06:22.624152Z",
     "start_time": "2025-10-30T20:06:22.621795Z"
    }
   },
   "source": [
    "# Import required libraries\n",
    "import pandas as pd\n",
    "import json\n",
    "from pathlib import Path\n",
    "import matplotlib.pyplot as plt\n",
    "import seaborn as sns\n",
    "from datetime import datetime\n",
    "\n",
    "# Set display options\n",
    "pd.set_option('display.max_columns', None)\n",
    "pd.set_option('display.max_rows', 100)\n",
    "pd.set_option('display.width', None)\n",
    "\n",
    "# Set plot style\n",
    "sns.set_style('whitegrid')\n",
    "plt.rcParams['figure.figsize'] = (12, 6)\n",
    "\n",
    "print(\"✓ Libraries imported successfully\")"
   ],
   "outputs": [
    {
     "name": "stdout",
     "output_type": "stream",
     "text": [
      "✓ Libraries imported successfully\n"
     ]
    }
   ],
   "execution_count": 1
  },
  {
   "cell_type": "markdown",
   "metadata": {},
   "source": [
    "## 1. Load Bronze Granules (Partitioned by Region)"
   ]
  },
  {
   "cell_type": "code",
   "metadata": {
    "ExecuteTime": {
     "end_time": "2025-10-30T20:06:28.551531Z",
     "start_time": "2025-10-30T20:06:28.166477Z"
    }
   },
   "source": [
    "# Define paths\n",
    "granules_dir = Path('../data/02_intermediate/granules')\n",
    "\n",
    "# Load all region granules\n",
    "granules_dict = {}\n",
    "for parquet_file in granules_dir.glob('*.parquet'):\n",
    "    region_id = parquet_file.stem\n",
    "    df = pd.read_parquet(parquet_file)\n",
    "    granules_dict[region_id] = df\n",
    "    print(f\"✓ Loaded {region_id}: {len(df)} granules\")\n",
    "\n",
    "print(f\"\\n✓ Total regions loaded: {len(granules_dict)}\")"
   ],
   "outputs": [
    {
     "name": "stdout",
     "output_type": "stream",
     "text": [
      "✓ Loaded NYC001: 50 granules\n",
      "✓ Loaded LAX001: 50 granules\n",
      "✓ Loaded MIA001: 50 granules\n",
      "✓ Loaded CHI001: 50 granules\n",
      "\n",
      "✓ Total regions loaded: 4\n"
     ]
    }
   ],
   "execution_count": 2
  },
  {
   "cell_type": "code",
   "metadata": {
    "ExecuteTime": {
     "end_time": "2025-10-30T20:06:32.303222Z",
     "start_time": "2025-10-30T20:06:32.298564Z"
    }
   },
   "source": [
    "# Display NYC001 granules (sample region)\n",
    "print(\"=\" * 80)\n",
    "print(\"NYC001 Granules Sample\")\n",
    "print(\"=\" * 80)\n",
    "nyc_granules = granules_dict.get('NYC001', pd.DataFrame())\n",
    "\n",
    "if not nyc_granules.empty:\n",
    "    print(f\"\\nShape: {nyc_granules.shape}\")\n",
    "    print(f\"\\nColumns: {list(nyc_granules.columns)}\")\n",
    "    print(f\"\\nData Types:\")\n",
    "    print(nyc_granules.dtypes)\n",
    "else:\n",
    "    print(\"No data found for NYC001\")"
   ],
   "outputs": [
    {
     "name": "stdout",
     "output_type": "stream",
     "text": [
      "================================================================================\n",
      "NYC001 Granules Sample\n",
      "================================================================================\n",
      "\n",
      "Shape: (50, 14)\n",
      "\n",
      "Columns: ['region_id', 'granule_id', 'title', 'time_start', 'time_end', 'cloud_cover', 'product', 'bbox_west', 'bbox_south', 'bbox_east', 'bbox_north', 'ingestion_timestamp', 'links', 'date']\n",
      "\n",
      "Data Types:\n",
      "region_id               object\n",
      "granule_id              object\n",
      "title                   object\n",
      "time_start              object\n",
      "time_end                object\n",
      "cloud_cover              int64\n",
      "product                 object\n",
      "bbox_west              float64\n",
      "bbox_south             float64\n",
      "bbox_east              float64\n",
      "bbox_north             float64\n",
      "ingestion_timestamp     object\n",
      "links                   object\n",
      "date                    object\n",
      "dtype: object\n"
     ]
    }
   ],
   "execution_count": 3
  },
  {
   "cell_type": "code",
   "metadata": {
    "ExecuteTime": {
     "end_time": "2025-10-30T20:06:41.695534Z",
     "start_time": "2025-10-30T20:06:41.679755Z"
    }
   },
   "source": [
    "# Display first 5 records\n",
    "if not nyc_granules.empty:\n",
    "    print(\"First 5 NYC001 records:\")\n",
    "    display(nyc_granules.head())"
   ],
   "outputs": [
    {
     "name": "stdout",
     "output_type": "stream",
     "text": [
      "First 5 NYC001 records:\n"
     ]
    },
    {
     "data": {
      "text/plain": [
       "  region_id           granule_id                                      title  \\\n",
       "0    NYC001  G3623541276-LPCLOUD  MOD11A1.A2025205.h12v04.061.2025206092246   \n",
       "1    NYC001  G3625212929-LPCLOUD  MOD11A1.A2025206.h12v04.061.2025207093454   \n",
       "2    NYC001  G3627591719-LPCLOUD  MOD11A1.A2025207.h12v04.061.2025209021044   \n",
       "3    NYC001  G3628568109-LPCLOUD  MOD11A1.A2025208.h12v04.061.2025209165558   \n",
       "4    NYC001  G3630043425-LPCLOUD  MOD11A1.A2025209.h12v04.061.2025210185302   \n",
       "\n",
       "                 time_start                  time_end  cloud_cover  product  \\\n",
       "0  2025-07-24T00:00:00.000Z  2025-07-24T23:59:59.000Z            0  MOD11A1   \n",
       "1  2025-07-25T00:00:00.000Z  2025-07-25T23:59:59.000Z            0  MOD11A1   \n",
       "2  2025-07-26T00:00:00.000Z  2025-07-26T23:59:59.000Z            0  MOD11A1   \n",
       "3  2025-07-27T00:00:00.000Z  2025-07-27T23:59:59.000Z            0  MOD11A1   \n",
       "4  2025-07-28T00:00:00.000Z  2025-07-28T23:59:59.000Z            0  MOD11A1   \n",
       "\n",
       "   bbox_west  bbox_south  bbox_east  bbox_north         ingestion_timestamp  \\\n",
       "0   -74.2589     40.4774   -73.7004     40.9176  2025-10-30T15:52:53.206802   \n",
       "1   -74.2589     40.4774   -73.7004     40.9176  2025-10-30T15:52:53.206814   \n",
       "2   -74.2589     40.4774   -73.7004     40.9176  2025-10-30T15:52:53.206816   \n",
       "3   -74.2589     40.4774   -73.7004     40.9176  2025-10-30T15:52:53.206818   \n",
       "4   -74.2589     40.4774   -73.7004     40.9176  2025-10-30T15:52:53.206819   \n",
       "\n",
       "  links        date  \n",
       "0    []  2025-07-24  \n",
       "1    []  2025-07-25  \n",
       "2    []  2025-07-26  \n",
       "3    []  2025-07-27  \n",
       "4    []  2025-07-28  "
      ],
      "text/html": [
       "<div>\n",
       "<style scoped>\n",
       "    .dataframe tbody tr th:only-of-type {\n",
       "        vertical-align: middle;\n",
       "    }\n",
       "\n",
       "    .dataframe tbody tr th {\n",
       "        vertical-align: top;\n",
       "    }\n",
       "\n",
       "    .dataframe thead th {\n",
       "        text-align: right;\n",
       "    }\n",
       "</style>\n",
       "<table border=\"1\" class=\"dataframe\">\n",
       "  <thead>\n",
       "    <tr style=\"text-align: right;\">\n",
       "      <th></th>\n",
       "      <th>region_id</th>\n",
       "      <th>granule_id</th>\n",
       "      <th>title</th>\n",
       "      <th>time_start</th>\n",
       "      <th>time_end</th>\n",
       "      <th>cloud_cover</th>\n",
       "      <th>product</th>\n",
       "      <th>bbox_west</th>\n",
       "      <th>bbox_south</th>\n",
       "      <th>bbox_east</th>\n",
       "      <th>bbox_north</th>\n",
       "      <th>ingestion_timestamp</th>\n",
       "      <th>links</th>\n",
       "      <th>date</th>\n",
       "    </tr>\n",
       "  </thead>\n",
       "  <tbody>\n",
       "    <tr>\n",
       "      <th>0</th>\n",
       "      <td>NYC001</td>\n",
       "      <td>G3623541276-LPCLOUD</td>\n",
       "      <td>MOD11A1.A2025205.h12v04.061.2025206092246</td>\n",
       "      <td>2025-07-24T00:00:00.000Z</td>\n",
       "      <td>2025-07-24T23:59:59.000Z</td>\n",
       "      <td>0</td>\n",
       "      <td>MOD11A1</td>\n",
       "      <td>-74.2589</td>\n",
       "      <td>40.4774</td>\n",
       "      <td>-73.7004</td>\n",
       "      <td>40.9176</td>\n",
       "      <td>2025-10-30T15:52:53.206802</td>\n",
       "      <td>[]</td>\n",
       "      <td>2025-07-24</td>\n",
       "    </tr>\n",
       "    <tr>\n",
       "      <th>1</th>\n",
       "      <td>NYC001</td>\n",
       "      <td>G3625212929-LPCLOUD</td>\n",
       "      <td>MOD11A1.A2025206.h12v04.061.2025207093454</td>\n",
       "      <td>2025-07-25T00:00:00.000Z</td>\n",
       "      <td>2025-07-25T23:59:59.000Z</td>\n",
       "      <td>0</td>\n",
       "      <td>MOD11A1</td>\n",
       "      <td>-74.2589</td>\n",
       "      <td>40.4774</td>\n",
       "      <td>-73.7004</td>\n",
       "      <td>40.9176</td>\n",
       "      <td>2025-10-30T15:52:53.206814</td>\n",
       "      <td>[]</td>\n",
       "      <td>2025-07-25</td>\n",
       "    </tr>\n",
       "    <tr>\n",
       "      <th>2</th>\n",
       "      <td>NYC001</td>\n",
       "      <td>G3627591719-LPCLOUD</td>\n",
       "      <td>MOD11A1.A2025207.h12v04.061.2025209021044</td>\n",
       "      <td>2025-07-26T00:00:00.000Z</td>\n",
       "      <td>2025-07-26T23:59:59.000Z</td>\n",
       "      <td>0</td>\n",
       "      <td>MOD11A1</td>\n",
       "      <td>-74.2589</td>\n",
       "      <td>40.4774</td>\n",
       "      <td>-73.7004</td>\n",
       "      <td>40.9176</td>\n",
       "      <td>2025-10-30T15:52:53.206816</td>\n",
       "      <td>[]</td>\n",
       "      <td>2025-07-26</td>\n",
       "    </tr>\n",
       "    <tr>\n",
       "      <th>3</th>\n",
       "      <td>NYC001</td>\n",
       "      <td>G3628568109-LPCLOUD</td>\n",
       "      <td>MOD11A1.A2025208.h12v04.061.2025209165558</td>\n",
       "      <td>2025-07-27T00:00:00.000Z</td>\n",
       "      <td>2025-07-27T23:59:59.000Z</td>\n",
       "      <td>0</td>\n",
       "      <td>MOD11A1</td>\n",
       "      <td>-74.2589</td>\n",
       "      <td>40.4774</td>\n",
       "      <td>-73.7004</td>\n",
       "      <td>40.9176</td>\n",
       "      <td>2025-10-30T15:52:53.206818</td>\n",
       "      <td>[]</td>\n",
       "      <td>2025-07-27</td>\n",
       "    </tr>\n",
       "    <tr>\n",
       "      <th>4</th>\n",
       "      <td>NYC001</td>\n",
       "      <td>G3630043425-LPCLOUD</td>\n",
       "      <td>MOD11A1.A2025209.h12v04.061.2025210185302</td>\n",
       "      <td>2025-07-28T00:00:00.000Z</td>\n",
       "      <td>2025-07-28T23:59:59.000Z</td>\n",
       "      <td>0</td>\n",
       "      <td>MOD11A1</td>\n",
       "      <td>-74.2589</td>\n",
       "      <td>40.4774</td>\n",
       "      <td>-73.7004</td>\n",
       "      <td>40.9176</td>\n",
       "      <td>2025-10-30T15:52:53.206819</td>\n",
       "      <td>[]</td>\n",
       "      <td>2025-07-28</td>\n",
       "    </tr>\n",
       "  </tbody>\n",
       "</table>\n",
       "</div>"
      ]
     },
     "metadata": {},
     "output_type": "display_data"
    }
   ],
   "execution_count": 4
  },
  {
   "cell_type": "code",
   "metadata": {
    "ExecuteTime": {
     "end_time": "2025-10-30T20:06:53.645553Z",
     "start_time": "2025-10-30T20:06:53.640532Z"
    }
   },
   "source": [
    "# Summary statistics for NYC001\n",
    "if not nyc_granules.empty:\n",
    "    print(\"=\" * 80)\n",
    "    print(\"NYC001 Granules - Summary Statistics\")\n",
    "    print(\"=\" * 80)\n",
    "    print(f\"\\nDate Range: {nyc_granules['date'].min()} to {nyc_granules['date'].max()}\")\n",
    "    print(f\"Unique Dates: {nyc_granules['date'].nunique()}\")\n",
    "    print(f\"Product: {nyc_granules['product'].iloc[0]}\")"
   ],
   "outputs": [
    {
     "name": "stdout",
     "output_type": "stream",
     "text": [
      "================================================================================\n",
      "NYC001 Granules - Summary Statistics\n",
      "================================================================================\n",
      "\n",
      "Date Range: 2025-07-24 to 2025-09-11\n",
      "Unique Dates: 50\n",
      "Product: MOD11A1\n"
     ]
    }
   ],
   "execution_count": 5
  },
  {
   "cell_type": "code",
   "metadata": {
    "ExecuteTime": {
     "end_time": "2025-10-30T20:06:58.555424Z",
     "start_time": "2025-10-30T20:06:58.549930Z"
    }
   },
   "source": [
    "# Cloud cover statistics\n",
    "if not nyc_granules.empty:\n",
    "    print(\"Cloud Cover Statistics:\")\n",
    "    print(nyc_granules['cloud_cover'].describe())"
   ],
   "outputs": [
    {
     "name": "stdout",
     "output_type": "stream",
     "text": [
      "Cloud Cover Statistics:\n",
      "count    50.0\n",
      "mean      0.0\n",
      "std       0.0\n",
      "min       0.0\n",
      "25%       0.0\n",
      "50%       0.0\n",
      "75%       0.0\n",
      "max       0.0\n",
      "Name: cloud_cover, dtype: float64\n"
     ]
    }
   ],
   "execution_count": 6
  },
  {
   "cell_type": "code",
   "metadata": {
    "ExecuteTime": {
     "end_time": "2025-10-30T20:07:01.671501Z",
     "start_time": "2025-10-30T20:07:01.668819Z"
    }
   },
   "source": [
    "# Bounding box information\n",
    "if not nyc_granules.empty:\n",
    "    print(\"NYC001 Bounding Box:\")\n",
    "    print(f\"  West:  {nyc_granules['bbox_west'].iloc[0]}\")\n",
    "    print(f\"  South: {nyc_granules['bbox_south'].iloc[0]}\")\n",
    "    print(f\"  East:  {nyc_granules['bbox_east'].iloc[0]}\")\n",
    "    print(f\"  North: {nyc_granules['bbox_north'].iloc[0]}\")"
   ],
   "outputs": [
    {
     "name": "stdout",
     "output_type": "stream",
     "text": [
      "NYC001 Bounding Box:\n",
      "  West:  -74.2589\n",
      "  South: 40.4774\n",
      "  East:  -73.7004\n",
      "  North: 40.9176\n"
     ]
    }
   ],
   "execution_count": 7
  },
  {
   "cell_type": "markdown",
   "metadata": {},
   "source": [
    "## 2. All Regions Overview"
   ]
  },
  {
   "cell_type": "code",
   "metadata": {
    "ExecuteTime": {
     "end_time": "2025-10-30T20:07:07.237738Z",
     "start_time": "2025-10-30T20:07:07.228077Z"
    }
   },
   "source": [
    "# Create summary table for all regions\n",
    "region_summary = []\n",
    "\n",
    "for region_id, df in granules_dict.items():\n",
    "    summary = {\n",
    "        'Region': region_id,\n",
    "        'Granule Count': len(df),\n",
    "        'Date Start': df['date'].min(),\n",
    "        'Date End': df['date'].max(),\n",
    "        'Unique Dates': df['date'].nunique(),\n",
    "        'Avg Cloud Cover': f\"{df['cloud_cover'].mean():.2f}%\",\n",
    "        'Product': df['product'].iloc[0] if 'product' in df.columns else 'N/A',\n",
    "    }\n",
    "    region_summary.append(summary)\n",
    "\n",
    "summary_df = pd.DataFrame(region_summary)\n",
    "\n",
    "print(\"=\" * 80)\n",
    "print(\"All Regions Summary\")\n",
    "print(\"=\" * 80)\n",
    "display(summary_df)"
   ],
   "outputs": [
    {
     "name": "stdout",
     "output_type": "stream",
     "text": [
      "================================================================================\n",
      "All Regions Summary\n",
      "================================================================================\n"
     ]
    },
    {
     "data": {
      "text/plain": [
       "   Region  Granule Count  Date Start    Date End  Unique Dates  \\\n",
       "0  NYC001             50  2025-07-24  2025-09-11            50   \n",
       "1  LAX001             50  2025-07-24  2025-09-11            50   \n",
       "2  MIA001             50  2025-07-24  2025-09-11            50   \n",
       "3  CHI001             50  2025-07-24  2025-09-11            50   \n",
       "\n",
       "  Avg Cloud Cover  Product  \n",
       "0           0.00%  MOD11A1  \n",
       "1           0.00%  MOD11A1  \n",
       "2           0.00%  MOD11A1  \n",
       "3           0.00%  MOD11A1  "
      ],
      "text/html": [
       "<div>\n",
       "<style scoped>\n",
       "    .dataframe tbody tr th:only-of-type {\n",
       "        vertical-align: middle;\n",
       "    }\n",
       "\n",
       "    .dataframe tbody tr th {\n",
       "        vertical-align: top;\n",
       "    }\n",
       "\n",
       "    .dataframe thead th {\n",
       "        text-align: right;\n",
       "    }\n",
       "</style>\n",
       "<table border=\"1\" class=\"dataframe\">\n",
       "  <thead>\n",
       "    <tr style=\"text-align: right;\">\n",
       "      <th></th>\n",
       "      <th>Region</th>\n",
       "      <th>Granule Count</th>\n",
       "      <th>Date Start</th>\n",
       "      <th>Date End</th>\n",
       "      <th>Unique Dates</th>\n",
       "      <th>Avg Cloud Cover</th>\n",
       "      <th>Product</th>\n",
       "    </tr>\n",
       "  </thead>\n",
       "  <tbody>\n",
       "    <tr>\n",
       "      <th>0</th>\n",
       "      <td>NYC001</td>\n",
       "      <td>50</td>\n",
       "      <td>2025-07-24</td>\n",
       "      <td>2025-09-11</td>\n",
       "      <td>50</td>\n",
       "      <td>0.00%</td>\n",
       "      <td>MOD11A1</td>\n",
       "    </tr>\n",
       "    <tr>\n",
       "      <th>1</th>\n",
       "      <td>LAX001</td>\n",
       "      <td>50</td>\n",
       "      <td>2025-07-24</td>\n",
       "      <td>2025-09-11</td>\n",
       "      <td>50</td>\n",
       "      <td>0.00%</td>\n",
       "      <td>MOD11A1</td>\n",
       "    </tr>\n",
       "    <tr>\n",
       "      <th>2</th>\n",
       "      <td>MIA001</td>\n",
       "      <td>50</td>\n",
       "      <td>2025-07-24</td>\n",
       "      <td>2025-09-11</td>\n",
       "      <td>50</td>\n",
       "      <td>0.00%</td>\n",
       "      <td>MOD11A1</td>\n",
       "    </tr>\n",
       "    <tr>\n",
       "      <th>3</th>\n",
       "      <td>CHI001</td>\n",
       "      <td>50</td>\n",
       "      <td>2025-07-24</td>\n",
       "      <td>2025-09-11</td>\n",
       "      <td>50</td>\n",
       "      <td>0.00%</td>\n",
       "      <td>MOD11A1</td>\n",
       "    </tr>\n",
       "  </tbody>\n",
       "</table>\n",
       "</div>"
      ]
     },
     "metadata": {},
     "output_type": "display_data"
    }
   ],
   "execution_count": 8
  },
  {
   "cell_type": "markdown",
   "metadata": {},
   "source": [
    "## 3. Load Bronze Metadata"
   ]
  },
  {
   "cell_type": "code",
   "metadata": {
    "ExecuteTime": {
     "end_time": "2025-10-30T20:07:17.474806Z",
     "start_time": "2025-10-30T20:07:17.453258Z"
    }
   },
   "source": [
    "# Load metadata (get latest version)\n",
    "metadata_dir = Path('../data/02_intermediate/metadata.parquet')\n",
    "\n",
    "# Find latest version\n",
    "metadata_versions = sorted(metadata_dir.glob('*/metadata.parquet'))\n",
    "if metadata_versions:\n",
    "    latest_metadata = metadata_versions[-1]\n",
    "    metadata = pd.read_parquet(latest_metadata)\n",
    "    \n",
    "    print(\"=\" * 80)\n",
    "    print(\"Bronze Ingestion Metadata\")\n",
    "    print(\"=\" * 80)\n",
    "    print(f\"\\nLoaded from: {latest_metadata}\")\n",
    "    print(f\"Shape: {metadata.shape}\")\n",
    "    print(f\"\\nMetadata:\")\n",
    "    display(metadata)\n",
    "else:\n",
    "    print(\"No metadata found\")\n",
    "    metadata = pd.DataFrame()"
   ],
   "outputs": [
    {
     "name": "stdout",
     "output_type": "stream",
     "text": [
      "================================================================================\n",
      "Bronze Ingestion Metadata\n",
      "================================================================================\n",
      "\n",
      "Loaded from: ../data/02_intermediate/metadata.parquet/2025-10-30T19.52.46.100Z/metadata.parquet\n",
      "Shape: (4, 9)\n",
      "\n",
      "Metadata:\n"
     ]
    },
    {
     "data": {
      "text/plain": [
       "  region_id    region_name                                      bbox  \\\n",
       "0    NYC001  New York City    [-74.2589, 40.4774, -73.7004, 40.9176]   \n",
       "1    LAX001    Los Angeles  [-118.6682, 33.7037, -118.1553, 34.3373]   \n",
       "2    CHI001        Chicago     [-87.9402, 41.6446, -87.5241, 42.023]   \n",
       "3    MIA001          Miami    [-80.3198, 25.7095, -80.1398, 25.8557]   \n",
       "\n",
       "  discovery_status date_range_start date_range_end  \\\n",
       "0          success       2025-07-24     2025-10-22   \n",
       "1          success       2025-07-24     2025-10-22   \n",
       "2          success       2025-07-24     2025-10-22   \n",
       "3          success       2025-07-24     2025-10-22   \n",
       "\n",
       "                                        file_path error_message  \\\n",
       "0  data/01_raw/cmr_discovery/NYC001_lst_data.json          None   \n",
       "1  data/01_raw/cmr_discovery/LAX001_lst_data.json          None   \n",
       "2  data/01_raw/cmr_discovery/CHI001_lst_data.json          None   \n",
       "3  data/01_raw/cmr_discovery/MIA001_lst_data.json          None   \n",
       "\n",
       "          ingestion_timestamp  \n",
       "0  2025-10-30T15:52:53.279628  \n",
       "1  2025-10-30T15:52:53.279634  \n",
       "2  2025-10-30T15:52:53.279638  \n",
       "3  2025-10-30T15:52:53.279640  "
      ],
      "text/html": [
       "<div>\n",
       "<style scoped>\n",
       "    .dataframe tbody tr th:only-of-type {\n",
       "        vertical-align: middle;\n",
       "    }\n",
       "\n",
       "    .dataframe tbody tr th {\n",
       "        vertical-align: top;\n",
       "    }\n",
       "\n",
       "    .dataframe thead th {\n",
       "        text-align: right;\n",
       "    }\n",
       "</style>\n",
       "<table border=\"1\" class=\"dataframe\">\n",
       "  <thead>\n",
       "    <tr style=\"text-align: right;\">\n",
       "      <th></th>\n",
       "      <th>region_id</th>\n",
       "      <th>region_name</th>\n",
       "      <th>bbox</th>\n",
       "      <th>discovery_status</th>\n",
       "      <th>date_range_start</th>\n",
       "      <th>date_range_end</th>\n",
       "      <th>file_path</th>\n",
       "      <th>error_message</th>\n",
       "      <th>ingestion_timestamp</th>\n",
       "    </tr>\n",
       "  </thead>\n",
       "  <tbody>\n",
       "    <tr>\n",
       "      <th>0</th>\n",
       "      <td>NYC001</td>\n",
       "      <td>New York City</td>\n",
       "      <td>[-74.2589, 40.4774, -73.7004, 40.9176]</td>\n",
       "      <td>success</td>\n",
       "      <td>2025-07-24</td>\n",
       "      <td>2025-10-22</td>\n",
       "      <td>data/01_raw/cmr_discovery/NYC001_lst_data.json</td>\n",
       "      <td>None</td>\n",
       "      <td>2025-10-30T15:52:53.279628</td>\n",
       "    </tr>\n",
       "    <tr>\n",
       "      <th>1</th>\n",
       "      <td>LAX001</td>\n",
       "      <td>Los Angeles</td>\n",
       "      <td>[-118.6682, 33.7037, -118.1553, 34.3373]</td>\n",
       "      <td>success</td>\n",
       "      <td>2025-07-24</td>\n",
       "      <td>2025-10-22</td>\n",
       "      <td>data/01_raw/cmr_discovery/LAX001_lst_data.json</td>\n",
       "      <td>None</td>\n",
       "      <td>2025-10-30T15:52:53.279634</td>\n",
       "    </tr>\n",
       "    <tr>\n",
       "      <th>2</th>\n",
       "      <td>CHI001</td>\n",
       "      <td>Chicago</td>\n",
       "      <td>[-87.9402, 41.6446, -87.5241, 42.023]</td>\n",
       "      <td>success</td>\n",
       "      <td>2025-07-24</td>\n",
       "      <td>2025-10-22</td>\n",
       "      <td>data/01_raw/cmr_discovery/CHI001_lst_data.json</td>\n",
       "      <td>None</td>\n",
       "      <td>2025-10-30T15:52:53.279638</td>\n",
       "    </tr>\n",
       "    <tr>\n",
       "      <th>3</th>\n",
       "      <td>MIA001</td>\n",
       "      <td>Miami</td>\n",
       "      <td>[-80.3198, 25.7095, -80.1398, 25.8557]</td>\n",
       "      <td>success</td>\n",
       "      <td>2025-07-24</td>\n",
       "      <td>2025-10-22</td>\n",
       "      <td>data/01_raw/cmr_discovery/MIA001_lst_data.json</td>\n",
       "      <td>None</td>\n",
       "      <td>2025-10-30T15:52:53.279640</td>\n",
       "    </tr>\n",
       "  </tbody>\n",
       "</table>\n",
       "</div>"
      ]
     },
     "metadata": {},
     "output_type": "display_data"
    }
   ],
   "execution_count": 9
  },
  {
   "cell_type": "markdown",
   "metadata": {},
   "source": [
    "## 4. Load Metrics Preparation Tables"
   ]
  },
  {
   "cell_type": "code",
   "metadata": {
    "ExecuteTime": {
     "end_time": "2025-10-30T20:21:09.220320Z",
     "start_time": "2025-10-30T20:21:09.184455Z"
    }
   },
   "source": [
    "# Load metrics prep data\n",
    "metrics_prep_dir = Path('../data/02_intermediate/metrics_prep')\n",
    "\n",
    "if metrics_prep_dir.exists():\n",
    "    metrics_prep_dict = {}\n",
    "    for parquet_file in metrics_prep_dir.glob('*.parquet'):\n",
    "        region_id = parquet_file.stem\n",
    "        df = pd.read_parquet(parquet_file)\n",
    "        metrics_prep_dict[region_id] = df\n",
    "        print(f\"✓ Loaded metrics prep for {region_id}: {len(df)} records\")\n",
    "    \n",
    "    print(f\"\\n✓ Total regions in metrics prep: {len(metrics_prep_dict)}\")\n",
    "else:\n",
    "    print(\"No metrics prep data found\")\n",
    "    metrics_prep_dict = {}"
   ],
   "outputs": [
    {
     "name": "stdout",
     "output_type": "stream",
     "text": [
      "✓ Loaded metrics prep for NYC001: 50 records\n",
      "✓ Loaded metrics prep for LAX001: 50 records\n",
      "✓ Loaded metrics prep for MIA001: 50 records\n",
      "✓ Loaded metrics prep for CHI001: 50 records\n",
      "\n",
      "✓ Total regions in metrics prep: 4\n"
     ]
    }
   ],
   "execution_count": 12
  },
  {
   "cell_type": "code",
   "metadata": {
    "ExecuteTime": {
     "end_time": "2025-10-30T20:21:13.566579Z",
     "start_time": "2025-10-30T20:21:13.564005Z"
    }
   },
   "source": [
    "# Display NYC001 metrics prep overview\n",
    "if 'NYC001' in metrics_prep_dict:\n",
    "    print(\"=\" * 80)\n",
    "    print(\"NYC001 Metrics Preparation (Ready for Silver Layer)\")\n",
    "    print(\"=\" * 80)\n",
    "    \n",
    "    nyc_metrics = metrics_prep_dict['NYC001']\n",
    "    print(f\"\\nShape: {nyc_metrics.shape}\")\n",
    "    print(f\"\\nColumns: {len(nyc_metrics.columns)}\")"
   ],
   "outputs": [
    {
     "name": "stdout",
     "output_type": "stream",
     "text": [
      "================================================================================\n",
      "NYC001 Metrics Preparation (Ready for Silver Layer)\n",
      "================================================================================\n",
      "\n",
      "Shape: (50, 18)\n",
      "\n",
      "Columns: 18\n"
     ]
    }
   ],
   "execution_count": 13
  },
  {
   "cell_type": "code",
   "metadata": {
    "ExecuteTime": {
     "end_time": "2025-10-30T20:21:17.232431Z",
     "start_time": "2025-10-30T20:21:17.226973Z"
    }
   },
   "source": [
    "# Check data completeness by column\n",
    "if 'NYC001' in metrics_prep_dict:\n",
    "    nyc_metrics = metrics_prep_dict['NYC001']\n",
    "    print(\"Columns (Bronze → Silver):\")\n",
    "    print(\"-\" * 80)\n",
    "    for col in nyc_metrics.columns:\n",
    "        dtype = nyc_metrics[col].dtype\n",
    "        null_count = nyc_metrics[col].isnull().sum()\n",
    "        status = \"✓ Has data\" if null_count == 0 else f\"⚠ {null_count} nulls (to be calculated)\"\n",
    "        print(f\"  {col:25s} ({str(dtype):10s}) - {status}\")"
   ],
   "outputs": [
    {
     "name": "stdout",
     "output_type": "stream",
     "text": [
      "Columns (Bronze → Silver):\n",
      "--------------------------------------------------------------------------------\n",
      "  region_id                 (object    ) - ✓ Has data\n",
      "  date                      (object    ) - ✓ Has data\n",
      "  granule_id                (object    ) - ✓ Has data\n",
      "  title                     (object    ) - ✓ Has data\n",
      "  product                   (object    ) - ✓ Has data\n",
      "  time_start                (object    ) - ✓ Has data\n",
      "  time_end                  (object    ) - ✓ Has data\n",
      "  cloud_cover               (int64     ) - ✓ Has data\n",
      "  lst_mean_c                (object    ) - ⚠ 50 nulls (to be calculated)\n",
      "  lst_min_c                 (object    ) - ⚠ 50 nulls (to be calculated)\n",
      "  lst_max_c                 (object    ) - ⚠ 50 nulls (to be calculated)\n",
      "  cdd                       (object    ) - ⚠ 50 nulls (to be calculated)\n",
      "  hdd                       (object    ) - ⚠ 50 nulls (to be calculated)\n",
      "  heatwave_flag             (int64     ) - ✓ Has data\n",
      "  uhi_index                 (object    ) - ⚠ 50 nulls (to be calculated)\n",
      "  anomaly_zscore            (object    ) - ⚠ 50 nulls (to be calculated)\n",
      "  data_quality_flag         (bool      ) - ✓ Has data\n",
      "  processing_status         (object    ) - ✓ Has data\n"
     ]
    }
   ],
   "execution_count": 14
  },
  {
   "cell_type": "code",
   "metadata": {
    "ExecuteTime": {
     "end_time": "2025-10-30T20:21:31.763558Z",
     "start_time": "2025-10-30T20:21:31.756183Z"
    }
   },
   "source": [
    "# Display first 5 metrics prep records\n",
    "if 'NYC001' in metrics_prep_dict:\n",
    "    nyc_metrics = metrics_prep_dict['NYC001']\n",
    "    print(\"First 5 records:\")\n",
    "    display(nyc_metrics.head())"
   ],
   "outputs": [
    {
     "name": "stdout",
     "output_type": "stream",
     "text": [
      "First 5 records:\n"
     ]
    },
    {
     "data": {
      "text/plain": [
       "  region_id        date           granule_id  \\\n",
       "0    NYC001  2025-08-01  G3639937937-LPCLOUD   \n",
       "1    NYC001  2025-08-02  G3639994539-LPCLOUD   \n",
       "2    NYC001  2025-08-03  G3640188762-LPCLOUD   \n",
       "3    NYC001  2025-08-04  G3640568775-LPCLOUD   \n",
       "4    NYC001  2025-08-05  G3642346786-LPCLOUD   \n",
       "\n",
       "                                       title  product  \\\n",
       "0  MOD11A1.A2025213.h12v04.061.2025217013301  MOD11A1   \n",
       "1  MOD11A1.A2025214.h12v04.061.2025217024502  MOD11A1   \n",
       "2  MOD11A1.A2025215.h12v04.061.2025217054528  MOD11A1   \n",
       "3  MOD11A1.A2025216.h12v04.061.2025217103117  MOD11A1   \n",
       "4  MOD11A1.A2025217.h12v04.061.2025218140827  MOD11A1   \n",
       "\n",
       "                 time_start                  time_end  cloud_cover lst_mean_c  \\\n",
       "0  2025-08-01T00:00:00.000Z  2025-08-01T23:59:59.000Z            0       None   \n",
       "1  2025-08-02T00:00:00.000Z  2025-08-02T23:59:59.000Z            0       None   \n",
       "2  2025-08-03T00:00:00.000Z  2025-08-03T23:59:59.000Z            0       None   \n",
       "3  2025-08-04T00:00:00.000Z  2025-08-04T23:59:59.000Z            0       None   \n",
       "4  2025-08-05T00:00:00.000Z  2025-08-05T23:59:59.000Z            0       None   \n",
       "\n",
       "  lst_min_c lst_max_c   cdd   hdd  heatwave_flag uhi_index anomaly_zscore  \\\n",
       "0      None      None  None  None              0      None           None   \n",
       "1      None      None  None  None              0      None           None   \n",
       "2      None      None  None  None              0      None           None   \n",
       "3      None      None  None  None              0      None           None   \n",
       "4      None      None  None  None              0      None           None   \n",
       "\n",
       "   data_quality_flag processing_status  \n",
       "0               True           pending  \n",
       "1               True           pending  \n",
       "2               True           pending  \n",
       "3               True           pending  \n",
       "4               True           pending  "
      ],
      "text/html": [
       "<div>\n",
       "<style scoped>\n",
       "    .dataframe tbody tr th:only-of-type {\n",
       "        vertical-align: middle;\n",
       "    }\n",
       "\n",
       "    .dataframe tbody tr th {\n",
       "        vertical-align: top;\n",
       "    }\n",
       "\n",
       "    .dataframe thead th {\n",
       "        text-align: right;\n",
       "    }\n",
       "</style>\n",
       "<table border=\"1\" class=\"dataframe\">\n",
       "  <thead>\n",
       "    <tr style=\"text-align: right;\">\n",
       "      <th></th>\n",
       "      <th>region_id</th>\n",
       "      <th>date</th>\n",
       "      <th>granule_id</th>\n",
       "      <th>title</th>\n",
       "      <th>product</th>\n",
       "      <th>time_start</th>\n",
       "      <th>time_end</th>\n",
       "      <th>cloud_cover</th>\n",
       "      <th>lst_mean_c</th>\n",
       "      <th>lst_min_c</th>\n",
       "      <th>lst_max_c</th>\n",
       "      <th>cdd</th>\n",
       "      <th>hdd</th>\n",
       "      <th>heatwave_flag</th>\n",
       "      <th>uhi_index</th>\n",
       "      <th>anomaly_zscore</th>\n",
       "      <th>data_quality_flag</th>\n",
       "      <th>processing_status</th>\n",
       "    </tr>\n",
       "  </thead>\n",
       "  <tbody>\n",
       "    <tr>\n",
       "      <th>0</th>\n",
       "      <td>NYC001</td>\n",
       "      <td>2025-08-01</td>\n",
       "      <td>G3639937937-LPCLOUD</td>\n",
       "      <td>MOD11A1.A2025213.h12v04.061.2025217013301</td>\n",
       "      <td>MOD11A1</td>\n",
       "      <td>2025-08-01T00:00:00.000Z</td>\n",
       "      <td>2025-08-01T23:59:59.000Z</td>\n",
       "      <td>0</td>\n",
       "      <td>None</td>\n",
       "      <td>None</td>\n",
       "      <td>None</td>\n",
       "      <td>None</td>\n",
       "      <td>None</td>\n",
       "      <td>0</td>\n",
       "      <td>None</td>\n",
       "      <td>None</td>\n",
       "      <td>True</td>\n",
       "      <td>pending</td>\n",
       "    </tr>\n",
       "    <tr>\n",
       "      <th>1</th>\n",
       "      <td>NYC001</td>\n",
       "      <td>2025-08-02</td>\n",
       "      <td>G3639994539-LPCLOUD</td>\n",
       "      <td>MOD11A1.A2025214.h12v04.061.2025217024502</td>\n",
       "      <td>MOD11A1</td>\n",
       "      <td>2025-08-02T00:00:00.000Z</td>\n",
       "      <td>2025-08-02T23:59:59.000Z</td>\n",
       "      <td>0</td>\n",
       "      <td>None</td>\n",
       "      <td>None</td>\n",
       "      <td>None</td>\n",
       "      <td>None</td>\n",
       "      <td>None</td>\n",
       "      <td>0</td>\n",
       "      <td>None</td>\n",
       "      <td>None</td>\n",
       "      <td>True</td>\n",
       "      <td>pending</td>\n",
       "    </tr>\n",
       "    <tr>\n",
       "      <th>2</th>\n",
       "      <td>NYC001</td>\n",
       "      <td>2025-08-03</td>\n",
       "      <td>G3640188762-LPCLOUD</td>\n",
       "      <td>MOD11A1.A2025215.h12v04.061.2025217054528</td>\n",
       "      <td>MOD11A1</td>\n",
       "      <td>2025-08-03T00:00:00.000Z</td>\n",
       "      <td>2025-08-03T23:59:59.000Z</td>\n",
       "      <td>0</td>\n",
       "      <td>None</td>\n",
       "      <td>None</td>\n",
       "      <td>None</td>\n",
       "      <td>None</td>\n",
       "      <td>None</td>\n",
       "      <td>0</td>\n",
       "      <td>None</td>\n",
       "      <td>None</td>\n",
       "      <td>True</td>\n",
       "      <td>pending</td>\n",
       "    </tr>\n",
       "    <tr>\n",
       "      <th>3</th>\n",
       "      <td>NYC001</td>\n",
       "      <td>2025-08-04</td>\n",
       "      <td>G3640568775-LPCLOUD</td>\n",
       "      <td>MOD11A1.A2025216.h12v04.061.2025217103117</td>\n",
       "      <td>MOD11A1</td>\n",
       "      <td>2025-08-04T00:00:00.000Z</td>\n",
       "      <td>2025-08-04T23:59:59.000Z</td>\n",
       "      <td>0</td>\n",
       "      <td>None</td>\n",
       "      <td>None</td>\n",
       "      <td>None</td>\n",
       "      <td>None</td>\n",
       "      <td>None</td>\n",
       "      <td>0</td>\n",
       "      <td>None</td>\n",
       "      <td>None</td>\n",
       "      <td>True</td>\n",
       "      <td>pending</td>\n",
       "    </tr>\n",
       "    <tr>\n",
       "      <th>4</th>\n",
       "      <td>NYC001</td>\n",
       "      <td>2025-08-05</td>\n",
       "      <td>G3642346786-LPCLOUD</td>\n",
       "      <td>MOD11A1.A2025217.h12v04.061.2025218140827</td>\n",
       "      <td>MOD11A1</td>\n",
       "      <td>2025-08-05T00:00:00.000Z</td>\n",
       "      <td>2025-08-05T23:59:59.000Z</td>\n",
       "      <td>0</td>\n",
       "      <td>None</td>\n",
       "      <td>None</td>\n",
       "      <td>None</td>\n",
       "      <td>None</td>\n",
       "      <td>None</td>\n",
       "      <td>0</td>\n",
       "      <td>None</td>\n",
       "      <td>None</td>\n",
       "      <td>True</td>\n",
       "      <td>pending</td>\n",
       "    </tr>\n",
       "  </tbody>\n",
       "</table>\n",
       "</div>"
      ]
     },
     "metadata": {},
     "output_type": "display_data"
    }
   ],
   "execution_count": 15
  },
  {
   "cell_type": "markdown",
   "metadata": {},
   "source": [
    "## 5. Data Quality Visualizations"
   ]
  },
  {
   "cell_type": "code",
   "metadata": {
    "ExecuteTime": {
     "end_time": "2025-10-30T20:21:36.146190Z",
     "start_time": "2025-10-30T20:21:36.143451Z"
    }
   },
   "source": [
    "# Prepare data for visualizations\n",
    "region_names = list(granules_dict.keys())\n",
    "granule_counts = [len(df) for df in granules_dict.values()]\n",
    "\n",
    "all_cloud_covers = []\n",
    "for df in granules_dict.values():\n",
    "    all_cloud_covers.extend(df['cloud_cover'].tolist())\n",
    "\n",
    "print(f\"✓ Data prepared for {len(region_names)} regions\")\n",
    "print(f\"✓ Total cloud cover values: {len(all_cloud_covers)}\")"
   ],
   "outputs": [
    {
     "name": "stdout",
     "output_type": "stream",
     "text": [
      "✓ Data prepared for 4 regions\n",
      "✓ Total cloud cover values: 200\n"
     ]
    }
   ],
   "execution_count": 16
  },
  {
   "cell_type": "code",
   "metadata": {
    "ExecuteTime": {
     "end_time": "2025-10-30T20:21:39.045274Z",
     "start_time": "2025-10-30T20:21:38.775420Z"
    }
   },
   "source": [
    "# Plot: Granule counts and cloud cover distribution\n",
    "fig, axes = plt.subplots(1, 2, figsize=(14, 5))\n",
    "\n",
    "# Granule counts\n",
    "axes[0].bar(region_names, granule_counts, color='steelblue', alpha=0.7)\n",
    "axes[0].set_title('Granule Count by Region', fontsize=14, fontweight='bold')\n",
    "axes[0].set_xlabel('Region')\n",
    "axes[0].set_ylabel('Number of Granules')\n",
    "axes[0].grid(axis='y', alpha=0.3)\n",
    "\n",
    "# Cloud cover distribution\n",
    "axes[1].hist(all_cloud_covers, bins=20, color='coral', alpha=0.7, edgecolor='black')\n",
    "axes[1].set_title('Cloud Cover Distribution (All Regions)', fontsize=14, fontweight='bold')\n",
    "axes[1].set_xlabel('Cloud Cover (%)')\n",
    "axes[1].set_ylabel('Frequency')\n",
    "axes[1].grid(axis='y', alpha=0.3)\n",
    "\n",
    "plt.tight_layout()\n",
    "plt.show()"
   ],
   "outputs": [
    {
     "data": {
      "text/plain": [
       "<Figure size 1400x500 with 2 Axes>"
      ],
      "image/png": "[encoded data removed]"
     },
     "metadata": {},
     "output_type": "display_data"
    }
   ],
   "execution_count": 17
  },
  {
   "cell_type": "code",
   "metadata": {
    "ExecuteTime": {
     "end_time": "2025-10-30T20:21:42.605006Z",
     "start_time": "2025-10-30T20:21:42.602489Z"
    }
   },
   "source": [
    "# Cloud cover statistics\n",
    "avg_cloud_cover = sum(all_cloud_covers)/len(all_cloud_covers)\n",
    "print(f\"✓ Average cloud cover across all regions: {avg_cloud_cover:.2f}%\")\n",
    "print(f\"✓ Min cloud cover: {min(all_cloud_covers):.2f}%\")\n",
    "print(f\"✓ Max cloud cover: {max(all_cloud_covers):.2f}%\")"
   ],
   "outputs": [
    {
     "name": "stdout",
     "output_type": "stream",
     "text": [
      "✓ Average cloud cover across all regions: 0.00%\n",
      "✓ Min cloud cover: 0.00%\n",
      "✓ Max cloud cover: 0.00%\n"
     ]
    }
   ],
   "execution_count": 18
  },
  {
   "cell_type": "code",
   "metadata": {
    "ExecuteTime": {
     "end_time": "2025-10-30T20:21:45.947518Z",
     "start_time": "2025-10-30T20:21:45.857947Z"
    }
   },
   "source": [
    "# Plot: Date coverage by region\n",
    "fig, ax = plt.subplots(figsize=(14, 6))\n",
    "\n",
    "for i, (region_id, df) in enumerate(granules_dict.items()):\n",
    "    dates = pd.to_datetime(df['date'])\n",
    "    y_pos = [i] * len(dates)\n",
    "    ax.scatter(dates, y_pos, alpha=0.6, s=50, label=region_id)\n",
    "\n",
    "ax.set_yticks(range(len(granules_dict)))\n",
    "ax.set_yticklabels(list(granules_dict.keys()))\n",
    "ax.set_xlabel('Date', fontsize=12)\n",
    "ax.set_ylabel('Region', fontsize=12)\n",
    "ax.set_title('Temporal Coverage by Region', fontsize=14, fontweight='bold')\n",
    "ax.grid(axis='x', alpha=0.3)\n",
    "plt.xticks(rotation=45)\n",
    "plt.tight_layout()\n",
    "plt.show()"
   ],
   "outputs": [
    {
     "data": {
      "text/plain": [
       "<Figure size 1400x600 with 1 Axes>"
      ],
      "image/png": "[encoded data removed]"
     },
     "metadata": {},
     "output_type": "display_data"
    }
   ],
   "execution_count": 19
  },
  {
   "cell_type": "markdown",
   "metadata": {},
   "source": [
    "## 6. Gap Analysis: Bronze vs. Target Schema"
   ]
  },
  {
   "cell_type": "code",
   "metadata": {
    "ExecuteTime": {
     "end_time": "2025-10-30T20:21:51.901314Z",
     "start_time": "2025-10-30T20:21:51.886879Z"
    }
   },
   "source": [
    "# Load mock data to compare schema\n",
    "mock_data_path = Path('../data/01_raw/data_samples/metrics_mock.json')\n",
    "\n",
    "if mock_data_path.exists():\n",
    "    with open(mock_data_path) as f:\n",
    "        mock_data = json.load(f)\n",
    "    print(\"✓ Mock data loaded successfully\")\n",
    "    print(f\"  Mock has {len(mock_data['metrics'])} sample records\")\n",
    "else:\n",
    "    print(\"❌ Mock data not found\")\n",
    "    mock_data = None"
   ],
   "outputs": [
    {
     "name": "stdout",
     "output_type": "stream",
     "text": [
      "✓ Mock data loaded successfully\n",
      "  Mock has 14 sample records\n"
     ]
    }
   ],
   "execution_count": 20
  },
  {
   "cell_type": "code",
   "metadata": {
    "ExecuteTime": {
     "end_time": "2025-10-30T20:21:55.351648Z",
     "start_time": "2025-10-30T20:21:55.348300Z"
    }
   },
   "source": [
    "# Compare schemas\n",
    "if mock_data and metrics_prep_dict:\n",
    "    print(\"=\" * 80)\n",
    "    print(\"Schema Comparison: Bronze vs. Target API Schema\")\n",
    "    print(\"=\" * 80)\n",
    "    \n",
    "    # Expected fields from mock\n",
    "    expected_fields = set(mock_data['metrics'][0].keys())\n",
    "    \n",
    "    # Fields we have in metrics_prep\n",
    "    sample_df = list(metrics_prep_dict.values())[0]\n",
    "    bronze_fields = set(sample_df.columns)\n",
    "    \n",
    "    # Find gaps\n",
    "    missing_fields = expected_fields - bronze_fields\n",
    "    extra_fields = bronze_fields - expected_fields\n",
    "    common_fields = expected_fields & bronze_fields\n",
    "    \n",
    "    print(f\"\\nExpected fields: {len(expected_fields)}\")\n",
    "    print(f\"Bronze fields:   {len(bronze_fields)}\")\n",
    "    print(f\"Common:          {len(common_fields)}\")\n",
    "    print(f\"Missing:         {len(missing_fields)}\")\n",
    "    print(f\"Extra:           {len(extra_fields)}\")"
   ],
   "outputs": [
    {
     "name": "stdout",
     "output_type": "stream",
     "text": [
      "================================================================================\n",
      "Schema Comparison: Bronze vs. Target API Schema\n",
      "================================================================================\n",
      "\n",
      "Expected fields: 7\n",
      "Bronze fields:   18\n",
      "Common:          7\n",
      "Missing:         0\n",
      "Extra:           11\n"
     ]
    }
   ],
   "execution_count": 21
  },
  {
   "cell_type": "code",
   "metadata": {
    "ExecuteTime": {
     "end_time": "2025-10-30T20:22:04.751386Z",
     "start_time": "2025-10-30T20:22:04.748978Z"
    }
   },
   "source": [
    "# Display common fields\n",
    "if mock_data and metrics_prep_dict:\n",
    "    print(f\"✓ Common fields ({len(common_fields)}):\")\n",
    "    for field in sorted(common_fields):\n",
    "        print(f\"  ✓ {field}\")"
   ],
   "outputs": [
    {
     "name": "stdout",
     "output_type": "stream",
     "text": [
      "✓ Common fields (7):\n",
      "  ✓ anomaly_zscore\n",
      "  ✓ cdd\n",
      "  ✓ date\n",
      "  ✓ hdd\n",
      "  ✓ heatwave_flag\n",
      "  ✓ lst_mean_c\n",
      "  ✓ uhi_index\n"
     ]
    }
   ],
   "execution_count": 22
  },
  {
   "cell_type": "code",
   "metadata": {
    "ExecuteTime": {
     "end_time": "2025-10-30T20:22:07.540761Z",
     "start_time": "2025-10-30T20:22:07.538427Z"
    }
   },
   "source": [
    "# Display missing fields (need to calculate in silver)\n",
    "if mock_data and metrics_prep_dict:\n",
    "    print(f\"\\n⚠ Missing from Bronze ({len(missing_fields)}):\")\n",
    "    print(\"These will be calculated in the Silver Layer:\\n\")\n",
    "    for field in sorted(missing_fields):\n",
    "        print(f\"  ❌ {field}\")"
   ],
   "outputs": [
    {
     "name": "stdout",
     "output_type": "stream",
     "text": [
      "\n",
      "⚠ Missing from Bronze (0):\n",
      "These will be calculated in the Silver Layer:\n",
      "\n"
     ]
    }
   ],
   "execution_count": 23
  },
  {
   "cell_type": "code",
   "metadata": {
    "ExecuteTime": {
     "end_time": "2025-10-30T20:22:11.109562Z",
     "start_time": "2025-10-30T20:22:11.106905Z"
    }
   },
   "source": [
    "# Display extra fields (metadata/tracking)\n",
    "if mock_data and metrics_prep_dict:\n",
    "    print(f\"\\n📋 Extra fields in Bronze ({len(extra_fields)}):\")\n",
    "    print(\"These are metadata/tracking fields:\\n\")\n",
    "    for field in sorted(extra_fields):\n",
    "        print(f\"  + {field}\")"
   ],
   "outputs": [
    {
     "name": "stdout",
     "output_type": "stream",
     "text": [
      "\n",
      "📋 Extra fields in Bronze (11):\n",
      "These are metadata/tracking fields:\n",
      "\n",
      "  + cloud_cover\n",
      "  + data_quality_flag\n",
      "  + granule_id\n",
      "  + lst_max_c\n",
      "  + lst_min_c\n",
      "  + processing_status\n",
      "  + product\n",
      "  + region_id\n",
      "  + time_end\n",
      "  + time_start\n",
      "  + title\n"
     ]
    }
   ],
   "execution_count": 24
  },
  {
   "cell_type": "code",
   "metadata": {
    "ExecuteTime": {
     "end_time": "2025-10-30T20:22:14.712900Z",
     "start_time": "2025-10-30T20:22:14.709843Z"
    }
   },
   "source": [
    "# Null value analysis\n",
    "if mock_data and metrics_prep_dict:\n",
    "    print(\"\\n📊 Null Value Analysis (Common Fields):\")\n",
    "    print(\"-\" * 80)\n",
    "    for field in sorted(common_fields):\n",
    "        if field in sample_df.columns:\n",
    "            null_count = sample_df[field].isnull().sum()\n",
    "            null_pct = (null_count / len(sample_df)) * 100\n",
    "            status = \"✓\" if null_count == 0 else \"⚠\"\n",
    "            print(f\"  {status} {field:25s}: {null_count:3d} nulls ({null_pct:5.1f}%)\")"
   ],
   "outputs": [
    {
     "name": "stdout",
     "output_type": "stream",
     "text": [
      "\n",
      "📊 Null Value Analysis (Common Fields):\n",
      "--------------------------------------------------------------------------------\n",
      "  ⚠ anomaly_zscore           :  50 nulls (100.0%)\n",
      "  ⚠ cdd                      :  50 nulls (100.0%)\n",
      "  ✓ date                     :   0 nulls (  0.0%)\n",
      "  ⚠ hdd                      :  50 nulls (100.0%)\n",
      "  ✓ heatwave_flag            :   0 nulls (  0.0%)\n",
      "  ⚠ lst_mean_c               :  50 nulls (100.0%)\n",
      "  ⚠ uhi_index                :  50 nulls (100.0%)\n"
     ]
    }
   ],
   "execution_count": 25
  },
  {
   "cell_type": "markdown",
   "metadata": {},
   "source": [
    "## 7. Detailed Record Inspection"
   ]
  },
  {
   "cell_type": "code",
   "metadata": {
    "ExecuteTime": {
     "end_time": "2025-10-30T20:22:25.552640Z",
     "start_time": "2025-10-30T20:22:25.549775Z"
    }
   },
   "source": [
    "# Display a single granule record in detail\n",
    "if not nyc_granules.empty:\n",
    "    print(\"=\" * 80)\n",
    "    print(\"Detailed Inspection: Single NYC001 Granule Record\")\n",
    "    print(\"=\" * 80)\n",
    "    \n",
    "    sample_record = nyc_granules.iloc[0]\n",
    "    \n",
    "    print(f\"\\nGranule Details:\")\n",
    "    for field, value in sample_record.items():\n",
    "        print(f\"  {field:20s}: {value}\")"
   ],
   "outputs": [
    {
     "name": "stdout",
     "output_type": "stream",
     "text": [
      "================================================================================\n",
      "Detailed Inspection: Single NYC001 Granule Record\n",
      "================================================================================\n",
      "\n",
      "Granule Details:\n",
      "  region_id           : NYC001\n",
      "  granule_id          : G3623541276-LPCLOUD\n",
      "  title               : MOD11A1.A2025205.h12v04.061.2025206092246\n",
      "  time_start          : 2025-07-24T00:00:00.000Z\n",
      "  time_end            : 2025-07-24T23:59:59.000Z\n",
      "  cloud_cover         : 0\n",
      "  product             : MOD11A1\n",
      "  bbox_west           : -74.2589\n",
      "  bbox_south          : 40.4774\n",
      "  bbox_east           : -73.7004\n",
      "  bbox_north          : 40.9176\n",
      "  ingestion_timestamp : 2025-10-30T15:52:53.206802\n",
      "  links               : []\n",
      "  date                : 2025-07-24\n"
     ]
    }
   ],
   "execution_count": 26
  },
  {
   "cell_type": "markdown",
   "metadata": {},
   "source": [
    "## 8. Export Summary Report"
   ]
  },
  {
   "cell_type": "code",
   "metadata": {
    "ExecuteTime": {
     "end_time": "2025-10-30T20:22:27.938185Z",
     "start_time": "2025-10-30T20:22:27.933745Z"
    }
   },
   "source": [
    "# Create a summary report\n",
    "report = {\n",
    "    'timestamp': datetime.now().isoformat(),\n",
    "    'total_regions': len(granules_dict),\n",
    "    'total_granules': sum(len(df) for df in granules_dict.values()),\n",
    "    'regions': []\n",
    "}\n",
    "\n",
    "for region_id, df in granules_dict.items():\n",
    "    region_info = {\n",
    "        'region_id': region_id,\n",
    "        'granule_count': len(df),\n",
    "        'date_range': {\n",
    "            'start': str(df['date'].min()),\n",
    "            'end': str(df['date'].max())\n",
    "        },\n",
    "        'unique_dates': int(df['date'].nunique()),\n",
    "        'avg_cloud_cover': float(df['cloud_cover'].mean()),\n",
    "        'product': str(df['product'].iloc[0]) if 'product' in df.columns else None\n",
    "    }\n",
    "    report['regions'].append(region_info)\n",
    "\n",
    "print(f\"✓ Report generated with {len(report['regions'])} regions\")"
   ],
   "outputs": [
    {
     "name": "stdout",
     "output_type": "stream",
     "text": [
      "✓ Report generated with 4 regions\n"
     ]
    }
   ],
   "execution_count": 27
  },
  {
   "cell_type": "code",
   "metadata": {
    "ExecuteTime": {
     "end_time": "2025-10-30T20:22:45.671336Z",
     "start_time": "2025-10-30T20:22:45.669313Z"
    }
   },
   "source": [
    "# Display report\n",
    "print(\"=\" * 80)\n",
    "print(\"Summary Report\")\n",
    "print(\"=\" * 80)\n",
    "print(json.dumps(report, indent=2))"
   ],
   "outputs": [
    {
     "name": "stdout",
     "output_type": "stream",
     "text": [
      "================================================================================\n",
      "Summary Report\n",
      "================================================================================\n",
      "{\n",
      "  \"timestamp\": \"2025-10-30T16:22:27.935680\",\n",
      "  \"total_regions\": 4,\n",
      "  \"total_granules\": 200,\n",
      "  \"regions\": [\n",
      "    {\n",
      "      \"region_id\": \"NYC001\",\n",
      "      \"granule_count\": 50,\n",
      "      \"date_range\": {\n",
      "        \"start\": \"2025-07-24\",\n",
      "        \"end\": \"2025-09-11\"\n",
      "      },\n",
      "      \"unique_dates\": 50,\n",
      "      \"avg_cloud_cover\": 0.0,\n",
      "      \"product\": \"MOD11A1\"\n",
      "    },\n",
      "    {\n",
      "      \"region_id\": \"LAX001\",\n",
      "      \"granule_count\": 50,\n",
      "      \"date_range\": {\n",
      "        \"start\": \"2025-07-24\",\n",
      "        \"end\": \"2025-09-11\"\n",
      "      },\n",
      "      \"unique_dates\": 50,\n",
      "      \"avg_cloud_cover\": 0.0,\n",
      "      \"product\": \"MOD11A1\"\n",
      "    },\n",
      "    {\n",
      "      \"region_id\": \"MIA001\",\n",
      "      \"granule_count\": 50,\n",
      "      \"date_range\": {\n",
      "        \"start\": \"2025-07-24\",\n",
      "        \"end\": \"2025-09-11\"\n",
      "      },\n",
      "      \"unique_dates\": 50,\n",
      "      \"avg_cloud_cover\": 0.0,\n",
      "      \"product\": \"MOD11A1\"\n",
      "    },\n",
      "    {\n",
      "      \"region_id\": \"CHI001\",\n",
      "      \"granule_count\": 50,\n",
      "      \"date_range\": {\n",
      "        \"start\": \"2025-07-24\",\n",
      "        \"end\": \"2025-09-11\"\n",
      "      },\n",
      "      \"unique_dates\": 50,\n",
      "      \"avg_cloud_cover\": 0.0,\n",
      "      \"product\": \"MOD11A1\"\n",
      "    }\n",
      "  ]\n",
      "}\n"
     ]
    }
   ],
   "execution_count": 28
  },
  {
   "cell_type": "markdown",
   "metadata": {},
   "source": [
    "## 9. Next Steps: Silver Layer Requirements\n",
    "\n",
    "Based on this exploration, the Silver Layer needs to:\n",
    "\n",
    "1. **Download Raster Data**: Use the granule links to download HDF/GeoTIFF files from NASA\n",
    "2. **Extract LST Values**: Use GDAL/rasterio to extract pixel values for each region's bbox\n",
    "3. **Calculate Metrics**:\n",
    "   - `lst_mean_c`: Mean LST in Celsius (convert from Kelvin)\n",
    "   - `cdd`: Cooling Degree Days = max(0, LST - 18°C)\n",
    "   - `hdd`: Heating Degree Days = max(0, 18°C - LST)\n",
    "   - `uhi_index`: Urban Heat Island index (vs rural baseline)\n",
    "   - `anomaly_zscore`: Z-score vs historical average\n",
    "   - `heatwave_flag`: Boolean for consecutive hot days\n",
    "\n",
    "4. **Match API Schema**: Transform to exact structure in `metrics_mock.json`\n",
    "5. **Store in Primary Layer**: Save to `data/03_primary/metrics_by_region/`"
   ]
  },
  {
   "cell_type": "markdown",
   "metadata": {},
   "source": [
    "## Conclusion\n",
    "\n",
    "✅ **Bronze layer successfully created and validated**\n",
    "\n",
    "- 4 regions with 50 granules each\n",
    "- Data quality tracking in place\n",
    "- Metadata captured correctly\n",
    "- Ready for Silver layer processing\n",
    "\n",
    "**Bronze = Intermediate Layer Complete!**"
   ]
  }
 ],
 "metadata": {
  "kernelspec": {
   "display_name": "Python 3",
   "language": "python",
   "name": "python3"
  },
  "language_info": {
   "codemirror_mode": {
    "name": "ipython",
    "version": 3
   },
   "file_extension": ".py",
   "mimetype": "text/x-python",
   "name": "python",
   "nbconvert_exporter": "python",
   "pygments_lexer": "ipython3",
   "version": "3.11.0"
  }
 },
 "nbformat": 4,
 "nbformat_minor": 4
}
